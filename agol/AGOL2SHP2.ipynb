{
  "nbformat": 4,
  "nbformat_minor": 0,
  "metadata": {
    "colab": {
      "provenance": [],
      "include_colab_link": true
    },
    "kernelspec": {
      "name": "python3",
      "display_name": "Python 3"
    }
  },
  "cells": [
    {
      "cell_type": "markdown",
      "metadata": {
        "id": "view-in-github",
        "colab_type": "text"
      },
      "source": [
        "<a href=\"https://colab.research.google.com/github/ryali93/utilitarios/blob/master/agol/AGOL2SHP2.ipynb\" target=\"_parent\"><img src=\"https://colab.research.google.com/assets/colab-badge.svg\" alt=\"Open In Colab\"/></a>"
      ]
    },
    {
      "cell_type": "code",
      "metadata": {
        "id": "HYgHgvKUKH4W"
      },
      "source": [
        "!pip install fiona\n",
        "!pip install geopandas"
      ],
      "execution_count": null,
      "outputs": []
    },
    {
      "cell_type": "code",
      "metadata": {
        "id": "VB4mW1xiKB5q"
      },
      "source": [
        "import os, requests\n",
        "import json, uuid\n",
        "import pandas as pd\n",
        "import geopandas as gpd\n",
        "import traceback\n",
        "\n",
        "nombreSHP = \"puntos_delitos\"\n",
        "url = 'https://arcgis3.inei.gob.pe:6443/arcgis/rest/services/Datacrim/DATACRIM002_AGS_PUNTOSDELITOS/MapServer/146/query'\n",
        "\n",
        "def convert_to_geojson(pjson_feature):\n",
        "    geom_coords = list(pjson_feature['geometry'].values())\n",
        "    geojson_geom = {\n",
        "        \"type\": \"Point\",\n",
        "        \"coordinates\": geom_coords\n",
        "    }\n",
        "\n",
        "    return {\n",
        "        \"type\": \"Feature\",\n",
        "        \"geometry\": geojson_geom,\n",
        "        \"properties\": pjson_feature['attributes']\n",
        "    }\n",
        "\n",
        "class RequestDataAGOL(object):\n",
        "    def __init__(self):\n",
        "        self.url = url\n",
        "        self.listaOids = []\n",
        "\n",
        "    def countOnly(self):\n",
        "        response = requests.post(\n",
        "            self.url,\n",
        "            data = {\n",
        "            'where': '1=1',\n",
        "            'outFields': \"*\",\n",
        "            'returnCountOnly': 'true',\n",
        "            'f': 'pjson'\n",
        "            }\n",
        "        )\n",
        "        res = json.loads(response.text)\n",
        "        self.cantidad = res[\"count\"]\n",
        "        print(self.cantidad)\n",
        "\n",
        "    def oidsOnly(self):\n",
        "        response = requests.post(\n",
        "            self.url,\n",
        "            data = {\n",
        "            'where': \"1=1\",\n",
        "            'outFields': \"*\",\n",
        "            'returnIdsOnly': 'true',\n",
        "            'f': 'pjson'\n",
        "            }\n",
        "        )\n",
        "        res = json.loads(response.text)\n",
        "        self.listaOids.extend(res[\"objectIds\"])\n",
        "        self.listaOids = list(set(self.listaOids))\n",
        "\n",
        "    def requestData(self):\n",
        "        global nombreSHP\n",
        "        data = self.listaOids\n",
        "        chunks = [data[x:x+1000] for x in range(0, len(data), 1000)]\n",
        "        geo_df = \"\"\n",
        "        a = 0\n",
        "        for n in chunks:\n",
        "          a += 1\n",
        "          try:\n",
        "            print(len(n))\n",
        "            n = ','.join([str(x) for x in n])\n",
        "            response = requests.post(\n",
        "                self.url,\n",
        "                data = {\n",
        "                'objectIds': n,\n",
        "                'outFields': \"*\",\n",
        "                'f': 'json'\n",
        "                }\n",
        "            )\n",
        "            res = json.loads(response.text)\n",
        "            features =  [convert_to_geojson(x) for x in res['features'] if 'geometry' in x.keys()]\n",
        "\n",
        "            gdf = gpd.GeoDataFrame.from_features(features)\n",
        "            gdf.crs = {'init' :'epsg:4326'}\n",
        "            if type(geo_df) == str:\n",
        "              geo_df = gdf[:]\n",
        "            else:\n",
        "              # geo_df = geo_df.append(gdf)\n",
        "              geo_df = gpd.GeoDataFrame(pd.concat([geo_df, gdf], ignore_index=True))\n",
        "\n",
        "            print(\"geo_df tiene {} elementos\".format(len(geo_df)))\n",
        "\n",
        "            geo_df.to_file(driver=\"ESRI Shapefile\", filename=\"{}.shp\".format(nombreSHP))\n",
        "          except:\n",
        "            nombreSHP = \"{}_{}\".format(nombreSHP, a)\n",
        "            traceback.print_exc()\n",
        "\n",
        "    def main(self):\n",
        "        self.countOnly()\n",
        "        self.oidsOnly()\n",
        "        self.requestData()\n",
        "\n",
        "if __name__ == '__main__':\n",
        "    poo = RequestDataAGOL()\n",
        "    poo.main()"
      ],
      "execution_count": null,
      "outputs": []
    },
    {
      "cell_type": "code",
      "metadata": {
        "id": "xbyrJcIvFEbJ"
      },
      "source": [
        "import os\n",
        "from zipfile import ZipFile\n",
        "\n",
        "files_to_zip = [x for x in os.listdir() if nombreSHP in x]\n",
        "with ZipFile('{}.zip'.format(nombreSHP), 'w') as zipObj:\n",
        "    for filename in files_to_zip:\n",
        "        zipObj.write(filename, os.path.basename(filename))"
      ],
      "execution_count": null,
      "outputs": []
    },
    {
      "cell_type": "code",
      "metadata": {
        "id": "6pBCLUuZKcma"
      },
      "source": [
        "gdf = gpd.read_file(\"{}.shp\".format(nombreSHP))\n",
        "gdf.plot()"
      ],
      "execution_count": null,
      "outputs": []
    },
    {
      "cell_type": "code",
      "metadata": {
        "id": "tUEAwidJMGL1",
        "colab": {
          "base_uri": "https://localhost:8080/",
          "height": 34
        },
        "outputId": "9f3f012e-413a-4a20-a012-8d6f6cdf9594"
      },
      "source": [
        "len(gdf)"
      ],
      "execution_count": null,
      "outputs": [
        {
          "output_type": "execute_result",
          "data": {
            "text/plain": [
              "18000"
            ]
          },
          "metadata": {
            "tags": []
          },
          "execution_count": 22
        }
      ]
    }
  ]
}